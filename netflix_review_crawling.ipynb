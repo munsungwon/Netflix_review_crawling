{
  "nbformat": 4,
  "nbformat_minor": 0,
  "metadata": {
    "colab": {
      "name": "Untitled0.ipynb",
      "provenance": [],
      "collapsed_sections": [],
      "authorship_tag": "ABX9TyNHLZc1ly9nvUlkZ6d+XSgO",
      "include_colab_link": true
    },
    "kernelspec": {
      "name": "python3",
      "display_name": "Python 3"
    },
    "language_info": {
      "name": "python"
    },
    "accelerator": "GPU"
  },
  "cells": [
    {
      "cell_type": "markdown",
      "metadata": {
        "id": "view-in-github",
        "colab_type": "text"
      },
      "source": [
        "<a href=\"https://colab.research.google.com/github/munsungwon/Netflix_review_crawling/blob/main/review_crawling.ipynb\" target=\"_parent\"><img src=\"https://colab.research.google.com/assets/colab-badge.svg\" alt=\"Open In Colab\"/></a>"
      ]
    },
    {
      "cell_type": "code",
      "metadata": {
        "colab": {
          "base_uri": "https://localhost:8080/"
        },
        "id": "5N3QCIFtTQxo",
        "outputId": "389ad084-de03-4b7c-da47-16fc6717c878"
      },
      "source": [
        "pip install app_store_scraper"
      ],
      "execution_count": null,
      "outputs": [
        {
          "output_type": "stream",
          "text": [
            "Collecting app_store_scraper\n",
            "  Downloading app_store_scraper-0.3.5-py3-none-any.whl (8.3 kB)\n",
            "Requirement already satisfied: requests==2.23.0 in /usr/local/lib/python3.7/dist-packages (from app_store_scraper) (2.23.0)\n",
            "Requirement already satisfied: idna<3,>=2.5 in /usr/local/lib/python3.7/dist-packages (from requests==2.23.0->app_store_scraper) (2.10)\n",
            "Requirement already satisfied: chardet<4,>=3.0.2 in /usr/local/lib/python3.7/dist-packages (from requests==2.23.0->app_store_scraper) (3.0.4)\n",
            "Requirement already satisfied: certifi>=2017.4.17 in /usr/local/lib/python3.7/dist-packages (from requests==2.23.0->app_store_scraper) (2021.5.30)\n",
            "Requirement already satisfied: urllib3!=1.25.0,!=1.25.1,<1.26,>=1.21.1 in /usr/local/lib/python3.7/dist-packages (from requests==2.23.0->app_store_scraper) (1.24.3)\n",
            "Installing collected packages: app-store-scraper\n",
            "Successfully installed app-store-scraper-0.3.5\n"
          ],
          "name": "stdout"
        }
      ]
    },
    {
      "cell_type": "code",
      "metadata": {
        "colab": {
          "base_uri": "https://localhost:8080/"
        },
        "id": "-9shCDZ1SmYx",
        "outputId": "fe2a1656-ce1e-4b85-ab67-29aaa6d5bda8"
      },
      "source": [
        "from app_store_scraper import AppStore\n",
        "import pandas as pd\n",
        "import time\n",
        "\n",
        "start_time = time.time()\n",
        "\n",
        "netflix = AppStore(country=\"us\", app_name=\"netflix\")\n",
        "netflix.review(how_many=5000)\n",
        "\n",
        "excel = []\n",
        "for i in range(5000):\n",
        "    result = netflix.reviews[i]\n",
        "    excel.append(result)\n",
        "\n",
        "df = pd.DataFrame(excel)\n",
        "df_arrange = df[['userName', 'rating', 'date', 'title', 'review']]\n",
        "df_arrange.to_csv('netflix_review.csv', mode='w')\n",
        "\n",
        "end_time = time.time()\n",
        "spend_time = end_time - start_time\n",
        "print(spend_time)"
      ],
      "execution_count": 11,
      "outputs": [
        {
          "output_type": "stream",
          "text": [
            "2021-08-13 07:39:05,619 [INFO] Base - Searching for app id\n",
            "2021-08-13 07:39:06,236 [INFO] Base - Initialised: AppStore('us', 'netflix', 363590051)\n",
            "2021-08-13 07:39:06,237 [INFO] Base - Ready to fetch reviews from: https://apps.apple.com/us/app/netflix/id363590051\n",
            "2021-08-13 07:39:11,339 [INFO] Base - [id:363590051] Fetched 2360 reviews (2360 fetched in total)\n",
            "2021-08-13 07:39:16,633 [INFO] Base - [id:363590051] Fetched 2840 reviews (2840 fetched in total)\n",
            "2021-08-13 07:39:22,130 [INFO] Base - [id:363590051] Fetched 3320 reviews (3320 fetched in total)\n",
            "2021-08-13 07:39:27,387 [INFO] Base - [id:363590051] Fetched 4300 reviews (4300 fetched in total)\n",
            "2021-08-13 07:39:28,549 [INFO] Base - [id:363590051] Fetched 5000 reviews (5000 fetched in total)\n"
          ],
          "name": "stderr"
        },
        {
          "output_type": "stream",
          "text": [
            "23.030896425247192\n"
          ],
          "name": "stdout"
        }
      ]
    },
    {
      "cell_type": "code",
      "metadata": {
        "id": "a8nTI3ThTOfc"
      },
      "source": [
        ""
      ],
      "execution_count": null,
      "outputs": []
    }
  ]
}
